{
 "cells": [
  {
   "cell_type": "markdown",
   "metadata": {},
   "source": [
    "## Neural Networks for Data Science Applications (2019/2020)\n",
    "## Final exam\n",
    "\n",
    "* **Student(s)**: Nurassilova Omirbanu (1848425).\n",
    "* **Reference paper**: Johnson R., Zhang T., 2015. Effective Use of Word Order for Text Categorizationwith Convolutional Neural Networks.\n",
    "\n",
    "\n",
    "\n",
    "## Part 1: Report\n",
    "\n",
    "#### Introduction\n",
    "\n",
    "Convolutional Neural Network (CNN) was used in order to implement text categorization such as sentiment classification and topic categorization.  This task is done with texts which written  in natural languages with pre-defined categories. The code for this paper was written in c++ in 2015. And it was released as a tool on their web-site.\n",
    "\n",
    "Previous works used bag-of-word vectors to represent text documents (text embedding), where we take into account if words exist in the document or not. But we lose word order which is important in sentiment classification. There were methods to keep word order by using n-grams (sequence of n words as one unit), but it was not effective also.\n",
    "\n",
    "##### Novelty\n",
    "\n",
    "1. The main novelties are that authors use convolutional neural networks(CNN):\n",
    "    1. to keep word order\n",
    "    2. to have word embedding as a part of the training of the whole network. They don’t use external word embedders.\n",
    "2. The technical novelty of using dynamic max-pooling layer to get constant sized output. We need it because text documents size varies, while finally, fully connected layers need constant sized input  to construct classifiers.\n",
    "\n",
    "\n",
    "##### used dataset\n",
    "In this paper several databases were studied. For this project IMDB data was used. This dataset contains 50k entries of data with positive and negative comments about movies. In our case model should predict if text contains positive or negative review. We tried to reimplement small experiments with two variants of input structure in python using Tensorflow. They are seq-CNN and bow-CNN for text. Text was cleaned and top 30k words were saved. But in order to reduce computation time we used only 5k words. For each word in the text we will have one vector with dim (5k,1) where all the entries will be zeros and only one value equal to 1 if this word is in top 5k list otherwise 0. So for each text we will have a matrix with dimension (number of words in one document, 5k).\n",
    "\n",
    "#### Experiments\n",
    "\n",
    "The standard CNN structure was used to compute convolutions for small regions vectors by moving orderly along input data. As an input they take 1D structured documents with initial word order, where a small region vectors corresponds to a sequence of words. To transform sequence of words to region vectors they had two methods: seq-CNN and bow-CNN. Sequences of words are taken as on the picture below:\n",
    "\n",
    "![seq_words](conseq.png)\n",
    "\n",
    "#### seq-CNN for text\n",
    "\n",
    "In this case input organized in a way where two vectors of two consequtive words concatenated on axis 1 and we have as input for convolution vector with dimension (2*length of the vector of one word, 1). So we can say that our region size is 2. Of course it can be other values but it makes the computation time more. The stride value should be 1 in this case. The main idea of this type of organization of the input is to save the order of words in the text. The window size in convolutional layer is 1 for this CNN.\n",
    "\n",
    "#### bow-CNN for text\n",
    "\n",
    "We have a problem related to the size of the input in the previous seq-CNN because of the value of region size r. The size of the input will be multiplied with r. In order to prevent having so huge matrixes we can use another variation offered in this paper. If we are assuming that the region size is 2 then we can put window size equal to region size in tensorflow function for creating convolutional layer of the network. In this way we can keep the idea to take each consequent pair of words vectors going together to convolutional layer."
   ]
  },
  {
   "cell_type": "markdown",
   "metadata": {},
   "source": [
    "## Part 2: External libraries"
   ]
  },
  {
   "cell_type": "code",
   "execution_count": 1,
   "metadata": {},
   "outputs": [],
   "source": [
    "import pandas as pd \n",
    "import numpy as np \n",
    "import re\n",
    "import os\n",
    "from tqdm.notebook import tqdm\n",
    "import json\n",
    "import string\n",
    "from multiprocessing import Pool\n",
    "import operator\n",
    "import nltk\n",
    "from nltk.tokenize import word_tokenize\n",
    "from nltk.corpus import stopwords\n",
    "from nltk.stem.porter import PorterStemmer\n",
    "# https://ai.stanford.edu/~amaas/data/sentiment/ \n",
    "import h5py\n",
    "import tensorflow as tf\n",
    "import sklearn\n",
    "import matplotlib.pyplot as plt\n",
    "np.random.seed(1848425*9)"
   ]
  },
  {
   "cell_type": "markdown",
   "metadata": {},
   "source": [
    "## Part 3: Implementation\n",
    "\n",
    "1. Data cleaning part contains converting words to lowercase letters, then removing punctuation and stemmimg.\n",
    "2. Then words were sorted by their occurences in texts, the most popular 30k was saved into file.\n",
    "3. Experiments part contains implementation of two CNN with different versions of input matrixes."
   ]
  },
  {
   "cell_type": "markdown",
   "metadata": {},
   "source": [
    "#### data cleaning"
   ]
  },
  {
   "cell_type": "code",
   "execution_count": null,
   "metadata": {},
   "outputs": [],
   "source": [
    "def cleaning_words(path):\n",
    "    file = open(path, 'rt')\n",
    "    text = file.read()\n",
    "    file.close()\n",
    "    # split into words\n",
    "    text = re.sub(r'http\\S+', '', text)\n",
    "    tokens = word_tokenize(text)\n",
    "    # convert to lower case\n",
    "    tokens = [w.lower() for w in tokens]\n",
    "    #print(tokens[:100], '\\n')\n",
    "    # remove punctuation from each word\n",
    "    table = str.maketrans('', '', string.punctuation)\n",
    "    stripped = [w.translate(table) for w in tokens]\n",
    "    #print(\"without punctuations: \", stripped[:100], '\\n')\n",
    "    # remove remaining tokens that are not alphabetic\n",
    "    words = [word for word in stripped if word.isalpha()]\n",
    "    #print(\"not alph: \", words[:100], '\\n')\n",
    "    # filter out stop words\n",
    "    stop_words = stopwords.words('english')\n",
    "    #words = [w for w in words if not w in names_authors_lower]\n",
    "    words = [w for w in words if not w in stop_words]\n",
    "    #print(\"without stop words: \", words[:100], '\\n')\n",
    "    #find bigram\n",
    "    \n",
    "    porter = PorterStemmer()\n",
    "    stemmed = [porter.stem(word) for word in words]\n",
    "    \n",
    "    return stemmed"
   ]
  },
  {
   "cell_type": "code",
   "execution_count": null,
   "metadata": {},
   "outputs": [],
   "source": [
    "set_list = [\"train\", \"test\"]\n",
    "word_count_dict = {}\n",
    "all_text ={}\n",
    "\n",
    "\n",
    "def word_cleaner(text_set):\n",
    "    root_path = os.path.join(\"aclImdb\", text_set)\n",
    "    all_text[text_set]= {}\n",
    "    for path, _, fnames in os.walk(root_path):\n",
    "        print(path)\n",
    "        pbar = tqdm(total=25000, desc = \"total {} set number: {}\".format(text_set, 25000))\n",
    "        for fname in fnames:\n",
    "            if fname.endswith(\"txt\"):\n",
    "                path_file = os.path.join(path,fname)\n",
    "                text = cleaning_words(path_file)\n",
    "                sense = path.split(\"/\")[-1]\n",
    "                if sense not in all_text[text_set]:\n",
    "                    all_text[text_set][sense]={}\n",
    "                \n",
    "                all_text[text_set][sense][fname] = text\n",
    "                #save_path = os.path.join(\"processed\", text_set,sense )\n",
    "                #os.makedirs(save_path, exist_ok = True)\n",
    "                #with open(os.path.join(save_path,fname), \"w\") as file:\n",
    "                    #file.write(text)\n",
    "                \n",
    "                \n",
    "                for word in text:\n",
    "                    if not word in word_count_dict:\n",
    "                        word_count_dict[word] = 1\n",
    "                    else:\n",
    "                        word_count_dict[word] += 1\n",
    "                pbar.update(1)\n",
    "                \n",
    "        pbar.close()\n",
    "                        \n",
    "for text_dir in set_list:\n",
    "    word_cleaner(text_dir)\n",
    "with open('word_count_dict.json', 'w') as f:\n",
    "    json.dump(word_count_dict, f)\n",
    "with open('all_text.json', 'w') as f:\n",
    "    json.dump(all_text, f)"
   ]
  },
  {
   "cell_type": "markdown",
   "metadata": {},
   "source": [
    "##### Sorting data\n",
    "getting top 30k popular words among texts"
   ]
  },
  {
   "cell_type": "code",
   "execution_count": null,
   "metadata": {},
   "outputs": [],
   "source": [
    "with open('word_count_dict.json') as json_file:\n",
    "    data = json.load(json_file)\n",
    "    \n",
    "sorted_data  = {k: v for k, v in sorted(data.items(), key=lambda item: item[1],reverse=True)}\n",
    "del sorted_data['br']\n",
    "del sorted_data['nt']\n",
    "top_30K_words_dict = dict(list(sorted_data.items())[:30000])\n",
    "\n",
    "list_words = list(sorted_data.keys())[:30000]\n",
    "top_30K_words ={}\n",
    "for i in range(30000):\n",
    "    top_30K_words[list_words[i]] = i\n",
    "    \n",
    "with open(\"top_30K_words_dict.json\", \"w\") as f:\n",
    "    json.dump(top_30K_words_dict, f)\n",
    "with open(\"top_30K_words.json\", \"w\") as f:\n",
    "    json.dump(top_30K_words, f)\n",
    "with open('all_text.json') as json_file:\n",
    "    all_text = json.load(json_file)"
   ]
  },
  {
   "cell_type": "markdown",
   "metadata": {},
   "source": [
    "## Experiments\n",
    "\n",
    "Taking the data that are processed in the project"
   ]
  },
  {
   "cell_type": "code",
   "execution_count": 2,
   "metadata": {},
   "outputs": [],
   "source": [
    "with open('all_text.json') as json_file:\n",
    "    all_text = json.load(json_file)\n",
    "with open('top_30K_words.json') as json_file:\n",
    "    top_30K_words = json.load(json_file)"
   ]
  },
  {
   "cell_type": "code",
   "execution_count": 3,
   "metadata": {},
   "outputs": [],
   "source": [
    "NNN = 5000\n",
    "top_5K = dict(list(top_30K_words.items())[:NNN])"
   ]
  },
  {
   "cell_type": "markdown",
   "metadata": {},
   "source": [
    "For our project 5000 most popular words among texts in our dataset were chosen.\n",
    "\n",
    "Our dataset contained 50k texts.\n",
    "For train we took 20k of them.\n",
    "and For test 4k."
   ]
  },
  {
   "cell_type": "code",
   "execution_count": 4,
   "metadata": {},
   "outputs": [],
   "source": [
    "pos_list = np.random.choice(list(all_text['train']['pos'].keys()),10000)\n",
    "neg_list = np.random.choice(list(all_text['train']['neg'].keys()),10000)\n",
    "pos_list_test = np.random.choice(list(all_text['test']['pos'].keys()),2000)\n",
    "neg_list_test = np.random.choice(list(all_text['test']['neg'].keys()),2000)"
   ]
  },
  {
   "cell_type": "code",
   "execution_count": 5,
   "metadata": {},
   "outputs": [],
   "source": [
    "target_label = [1]*2000\n",
    "tt = [0]*2000"
   ]
  },
  {
   "cell_type": "code",
   "execution_count": 6,
   "metadata": {},
   "outputs": [],
   "source": [
    "target_label.extend(tt)"
   ]
  },
  {
   "cell_type": "code",
   "execution_count": 7,
   "metadata": {},
   "outputs": [],
   "source": [
    "lens_l = []\n",
    "for x in pos_list_test:\n",
    "    lens_l.append(len(all_text['test']['pos'][x]))\n",
    "for x in neg_list_test:\n",
    "    lens_l.append(len(all_text['test']['neg'][x]))"
   ]
  },
  {
   "cell_type": "code",
   "execution_count": 8,
   "metadata": {},
   "outputs": [],
   "source": [
    "test_set = list(pos_list_test)\n",
    "test_set.extend(neg_list_test)"
   ]
  },
  {
   "cell_type": "markdown",
   "metadata": {},
   "source": [
    "We could not implement dynamic max_pooling as it is done in paper because we had retracing warning in executing training the model with different dimensions of input as authors of the paper did. That is why we decided to use the same dimension of inputs. In order to do that we added zero vectors to the text matrixes that we have. But we needed to decide which number to take.\n",
    "In order to define the dimension value (the length of the text that we will consider) we looked to lengthes of all texts. As we see below the max length is 1168, but it doesnot make sense to use this number and produce huge matrixes. At the end we picked 450 as the constant first dimension of the input."
   ]
  },
  {
   "cell_type": "code",
   "execution_count": 9,
   "metadata": {},
   "outputs": [],
   "source": [
    "lens_list = [] # we calculated all lengthes in order to decide which number use to limit dimestion of our matrixes\n",
    "for x in pos_list:\n",
    "    lens_list.append(len(all_text['train']['pos'][x]))\n",
    "for x in neg_list:\n",
    "    lens_list.append(len(all_text['train']['neg'][x]))"
   ]
  },
  {
   "cell_type": "code",
   "execution_count": 10,
   "metadata": {},
   "outputs": [
    {
     "data": {
      "text/plain": [
       "419.0"
      ]
     },
     "execution_count": 10,
     "metadata": {},
     "output_type": "execute_result"
    }
   ],
   "source": [
    "np.quantile(lens_list, 0.98) # we looked to the quantile, so we decided to use 450"
   ]
  },
  {
   "cell_type": "code",
   "execution_count": 11,
   "metadata": {},
   "outputs": [
    {
     "data": {
      "text/plain": [
       "406.02"
      ]
     },
     "execution_count": 11,
     "metadata": {},
     "output_type": "execute_result"
    }
   ],
   "source": [
    "np.quantile(lens_l, 0.98)"
   ]
  },
  {
   "cell_type": "code",
   "execution_count": 12,
   "metadata": {},
   "outputs": [
    {
     "data": {
      "text/plain": [
       "1168"
      ]
     },
     "execution_count": 12,
     "metadata": {},
     "output_type": "execute_result"
    }
   ],
   "source": [
    "np.max(lens_l)"
   ]
  },
  {
   "cell_type": "code",
   "execution_count": 13,
   "metadata": {},
   "outputs": [],
   "source": [
    "from sklearn.metrics import confusion_matrix\n",
    "# the following method is calculating accuracy\n",
    "def pred_error(y,y_pred):    \n",
    "    conf_mat = confusion_matrix(y,y_pred)\n",
    "    accuracy = sklearn.metrics.accuracy_score(y, y_pred)\n",
    "    err = 1-accuracy\n",
    "    return err, conf_mat, accuracy"
   ]
  },
  {
   "cell_type": "markdown",
   "metadata": {},
   "source": [
    "### seq-CNN\n",
    "#### first model\n",
    "According to the paper network should have input,convolution, maxpooling and output layer.\n",
    "The following functions perform several tasks. Here the input matrix is concatenated with itself but from the second row by axis 1 in order to implement sequential CNN where order of words is saved and input of convolution is each pair of consequtive words in the text. We will put kernel size as 1 so convolutional layer will consider one row of the matrix at a time. Each row looks like the example above:\n",
    "\n",
    "![seq-input](seq.png)"
   ]
  },
  {
   "cell_type": "code",
   "execution_count": 15,
   "metadata": {},
   "outputs": [],
   "source": [
    "def text_selection_train(): # this procedure takes sample at random from the train set\n",
    "    z = np.random.uniform()\n",
    "    if z>0.5:\n",
    "        text_id = np.random.choice(pos_list, 1)\n",
    "        sense = \"pos\"\n",
    "        \n",
    "    else: \n",
    "        text_id = np.random.choice(neg_list, 1)\n",
    "        sense = \"neg\"\n",
    "    return (text_id, sense)"
   ]
  },
  {
   "cell_type": "code",
   "execution_count": 16,
   "metadata": {},
   "outputs": [
    {
     "name": "stdout",
     "output_type": "stream",
     "text": [
      "Model: \"model\"\n",
      "_________________________________________________________________\n",
      "Layer (type)                 Output Shape              Param #   \n",
      "=================================================================\n",
      "input_1 (InputLayer)         [(None, 450, 10000)]      0         \n",
      "_________________________________________________________________\n",
      "conv1d (Conv1D)              (None, 450, 1000)         10001000  \n",
      "_________________________________________________________________\n",
      "max_pooling1d (MaxPooling1D) (None, 45, 1000)          0         \n",
      "_________________________________________________________________\n",
      "flatten (Flatten)            (None, 45000)             0         \n",
      "_________________________________________________________________\n",
      "dense (Dense)                (None, 1)                 45001     \n",
      "=================================================================\n",
      "Total params: 10,046,001\n",
      "Trainable params: 10,046,001\n",
      "Non-trainable params: 0\n",
      "_________________________________________________________________\n"
     ]
    }
   ],
   "source": [
    "def text_matrix_seq(text_id, sense, data_set = \"train\"): # this method is creating a matrix for input\n",
    "    text = all_text[data_set][sense][text_id]\n",
    "    N = len(text)\n",
    "    if N <= 450: # in case if we have less words than 450 in one text\n",
    "        text_array = np.zeros((450, NNN))\n",
    "    else:\n",
    "        text_array = np.zeros((450, NNN))\n",
    "        N = 450\n",
    "    for i in range(N):\n",
    "        if text[i] in top_5K.keys(): # put 1 in the matrix according to order in top 5k if word is there\n",
    "            index = top_5K[text[i]]\n",
    "            text_array[i,index] = 1\n",
    "    seqq = np.zeros((450,NNN))\n",
    "    seqq[0:449,] = text_array[1:450,]\n",
    "    final = np.concatenate((text_array, seqq), axis = 1) # concatenating 2 vectors (consequtive 2 words in text)\n",
    "    # in a way that 2 words merged together in one line, so length of the vector doubled in each row\n",
    "    # and repeating it for all words in the text\n",
    "    return final\n",
    "\n",
    "       \n",
    "def one_text_generator_2():\n",
    "    text_id, sense = text_selection_train() # selecting a document/text\n",
    "    #print(text_id)\n",
    "    text_array = text_matrix_seq(text_id[0], sense) # obtaining a matrix for input\n",
    "    if sense == 'pos':\n",
    "        sense = 1\n",
    "    else:\n",
    "        sense = 0\n",
    "    return text_array, sense   \n",
    "\n",
    "def model2(ff,kk,ss,pp): # function which creates a model\n",
    "    inputs = tf.keras.layers.Input( shape=(450,NNN*2), dtype=tf.float32)\n",
    "    #inputs = tf.keras.Sequential()\n",
    "    x = tf.keras.layers.Conv1D(filters=ff,kernel_size=kk,strides=ss, activation='relu', padding =\"SAME\")(inputs)\n",
    "    x = tf.keras.layers.MaxPooling1D(pool_size=pp)(x)#tf.keras.layers.Lambda(max_pool=4)(x)\n",
    "    x = tf.keras.layers.Flatten()(x)\n",
    "    x = tf.keras.layers.Dense(1,activation=\"sigmoid\")(x)\n",
    "    return tf.keras.Model(inputs = inputs, outputs = x)\n",
    "\n",
    "net_conv2 = model2(1000,1,1,10) # creating a model\n",
    "net_conv2.summary()\n",
    "loss_object =  tf.keras.losses.BinaryCrossentropy(from_logits =True) # loss function\n",
    "net_conv2_optimizer =tf.keras.optimizers.Adam(2e-4, beta_1=0.5) # optimizer"
   ]
  },
  {
   "cell_type": "code",
   "execution_count": 17,
   "metadata": {},
   "outputs": [],
   "source": [
    "@tf.function\n",
    "def train_step(one_text, target):\n",
    "    # function for training, we are traing one text per session\n",
    "    with tf.GradientTape() as tape:\n",
    "        prediction = net_conv2(one_text,training=True) \n",
    "        loss = loss_object(target, prediction)\n",
    "        gradients = tape.gradient(loss, net_conv2.trainable_weights)\n",
    "        net_conv2_optimizer.apply_gradients(zip(gradients, net_conv2.trainable_weights))\n",
    "        return loss\n",
    "\n",
    "def fit_function(steps = 5000):\n",
    "    losses = [] # loss history\n",
    "    for step in tqdm(range(steps)):\n",
    "        \n",
    "        one_text, target = one_text_generator_2() # generating an input\n",
    "        \n",
    "        #print(\"len text: \", len(one_text))\n",
    "        one_text, target = tf.cast(one_text, tf.float32),tf.cast(target, tf.float32)\n",
    "        one_text, target = tf.expand_dims(one_text, 0),tf.expand_dims(target, 0)\n",
    "        loss = train_step(one_text, target) # training\n",
    "        losses.append(loss.numpy())\n",
    "        #print(\"Loss: \", loss.numpy())\n",
    "    return losses"
   ]
  },
  {
   "cell_type": "code",
   "execution_count": 18,
   "metadata": {},
   "outputs": [
    {
     "data": {
      "application/vnd.jupyter.widget-view+json": {
       "model_id": "cb1f5ad076904902885ef09a9b8c43dd",
       "version_major": 2,
       "version_minor": 0
      },
      "text/plain": [
       "HBox(children=(FloatProgress(value=0.0, max=5000.0), HTML(value='')))"
      ]
     },
     "metadata": {},
     "output_type": "display_data"
    },
    {
     "name": "stdout",
     "output_type": "stream",
     "text": [
      "\n"
     ]
    },
    {
     "data": {
      "text/plain": [
       "[<matplotlib.lines.Line2D at 0x7fd722071a90>]"
      ]
     },
     "execution_count": 18,
     "metadata": {},
     "output_type": "execute_result"
    },
    {
     "data": {
      "image/png": "[encoded data removed]",
      "text/plain": [
       "<Figure size 432x288 with 1 Axes>"
      ]
     },
     "metadata": {
      "needs_background": "light"
     },
     "output_type": "display_data"
    }
   ],
   "source": [
    "losses2 = fit_function()\n",
    "loss_pd = pd.Series(losses2).ewm(halflife=50)\n",
    "plt.plot(loss_pd.mean())\n",
    "plt.plot(losses2, 'b', alpha=0.2)"
   ]
  },
  {
   "cell_type": "markdown",
   "metadata": {},
   "source": [
    "#### test of seq-CNN\n",
    "In this step we tested trained above model."
   ]
  },
  {
   "cell_type": "code",
   "execution_count": 19,
   "metadata": {},
   "outputs": [],
   "source": [
    "def testing(): # testing part\n",
    "    targets=[]\n",
    "    answ = []\n",
    "    step =len(test_set)\n",
    "    steps = np.random.choice(range(len(test_set)),1500) # choosing random 1500 texts from test set\n",
    "    for i in tqdm(steps):    \n",
    "        text_id, sense = test_set[i], target_label[i]\n",
    "        #print(text_id)\n",
    "        target = sense\n",
    "        if sense == 1:\n",
    "            sense = 'pos'\n",
    "        else:\n",
    "            sense = 'neg'\n",
    "        one_text = text_matrix_seq(text_id, sense, data_set=\"test\")\n",
    "        one_text = tf.cast(one_text, tf.float32)\n",
    "        one_text= tf.expand_dims(one_text, 0)\n",
    "        answ.append(int(round(net_conv2.predict(one_text)[0][0]))) # predicting\n",
    "        targets.append(target)\n",
    "    #print(answ)\n",
    "    print(np.sum(targets)) # the number of positive comments # just to be sure that data is balanced\n",
    "    #print(answ)\n",
    "    #print(targets)\n",
    "    answ = np.array(answ)\n",
    "    targets = np.array(targets)\n",
    "    print (np.sum(np.array((answ - targets))**2)/len(steps)) # error rate\n",
    "    return (pred_error(targets,answ))"
   ]
  },
  {
   "cell_type": "code",
   "execution_count": 20,
   "metadata": {},
   "outputs": [
    {
     "data": {
      "application/vnd.jupyter.widget-view+json": {
       "model_id": "d57ea22727c64279b8bab36e317809b7",
       "version_major": 2,
       "version_minor": 0
      },
      "text/plain": [
       "HBox(children=(FloatProgress(value=0.0, max=1500.0), HTML(value='')))"
      ]
     },
     "metadata": {},
     "output_type": "display_data"
    },
    {
     "name": "stdout",
     "output_type": "stream",
     "text": [
      "\n",
      "776\n",
      "0.17133333333333334\n"
     ]
    }
   ],
   "source": [
    "(err, conf_mat, accuracy)=testing()\n",
    "# 776 it is the number of positive comments that model predicted # just to be sure that targets are balanced\n",
    "# then this function is printing error rate"
   ]
  },
  {
   "cell_type": "code",
   "execution_count": 21,
   "metadata": {},
   "outputs": [
    {
     "data": {
      "text/plain": [
       "0.8286666666666667"
      ]
     },
     "execution_count": 21,
     "metadata": {},
     "output_type": "execute_result"
    }
   ],
   "source": [
    "accuracy # accuracy value on the test"
   ]
  },
  {
   "cell_type": "markdown",
   "metadata": {},
   "source": [
    "### bow-CNN\n",
    "#### second model\n",
    "\n",
    "The main difference from the first model is that input size is less for 2 times because we are not concatenating matrixes. And kernel size is 2 in convolutional layer. In order to make as an input for the convolutional layer the pair of consequtive words but without saving the order. However, according to the paper order is saved since we are considering consequrive pairs. All the procedures in this section are the same as in the previous except for matrix maker function. Additionally, we are giving different parameters to a model. Sequences of words considered here as in the picture below:\n",
    "\n",
    "![bow](bow.png)"
   ]
  },
  {
   "cell_type": "code",
   "execution_count": 16,
   "metadata": {},
   "outputs": [],
   "source": [
    "\n",
    "def text_matrix_BOW(text_id, sense, data_set = \"train\"):\n",
    "    text = all_text[data_set][sense][text_id]\n",
    "    N = len(text)\n",
    "    if N <= 450:\n",
    "        text_array = np.zeros((450, NNN))\n",
    "    else:\n",
    "        text_array = np.zeros((450, NNN))\n",
    "        N = 450\n",
    "    for i in range(N):\n",
    "        if text[i] in top_5K.keys():\n",
    "            index = top_5K[text[i]]\n",
    "            text_array[i,index] = 1\n",
    "    return text_array"
   ]
  },
  {
   "cell_type": "code",
   "execution_count": 17,
   "metadata": {},
   "outputs": [],
   "source": [
    "       \n",
    "def one_text_generator():\n",
    "    text_id, sense = text_selection_train()\n",
    "    #print(text_id)\n",
    "    text_array = text_matrix_BOW(text_id[0], sense)\n",
    "    if sense == 'pos':\n",
    "        sense = 1\n",
    "    else:\n",
    "        sense = 0\n",
    "    return text_array, sense   "
   ]
  },
  {
   "cell_type": "code",
   "execution_count": 18,
   "metadata": {},
   "outputs": [],
   "source": [
    "def model(ff,kk,ss,pp):\n",
    "    inputs = tf.keras.layers.Input( shape=(450,NNN), dtype=tf.float32)\n",
    "    #inputs = tf.keras.Sequential()\n",
    "    x = tf.keras.layers.Conv1D(filters=ff,kernel_size=kk,strides=ss, activation='relu', padding =\"SAME\")(inputs)\n",
    "    x = tf.keras.layers.MaxPooling1D(pool_size=pp)(x)#tf.keras.layers.Lambda(max_pool=4)(x)\n",
    "    x = tf.keras.layers.Flatten()(x)\n",
    "    x = tf.keras.layers.Dense(1,activation=\"sigmoid\")(x)\n",
    "    return tf.keras.Model(inputs = inputs, outputs = x)"
   ]
  },
  {
   "cell_type": "code",
   "execution_count": 19,
   "metadata": {},
   "outputs": [
    {
     "name": "stdout",
     "output_type": "stream",
     "text": [
      "Model: \"model\"\n",
      "_________________________________________________________________\n",
      "Layer (type)                 Output Shape              Param #   \n",
      "=================================================================\n",
      "input_1 (InputLayer)         [(None, 450, 5000)]       0         \n",
      "_________________________________________________________________\n",
      "conv1d (Conv1D)              (None, 450, 1000)         10001000  \n",
      "_________________________________________________________________\n",
      "max_pooling1d (MaxPooling1D) (None, 45, 1000)          0         \n",
      "_________________________________________________________________\n",
      "flatten (Flatten)            (None, 45000)             0         \n",
      "_________________________________________________________________\n",
      "dense (Dense)                (None, 1)                 45001     \n",
      "=================================================================\n",
      "Total params: 10,046,001\n",
      "Trainable params: 10,046,001\n",
      "Non-trainable params: 0\n",
      "_________________________________________________________________\n"
     ]
    }
   ],
   "source": [
    "net_conv = model(1000,2,1,10) # BOW\n",
    "net_conv.summary()\n",
    "loss_object =  tf.keras.losses.BinaryCrossentropy(from_logits =True)\n",
    "net_conv_optimizer =tf.keras.optimizers.Adam(2e-4, beta_1=0.5)"
   ]
  },
  {
   "cell_type": "code",
   "execution_count": 20,
   "metadata": {},
   "outputs": [],
   "source": [
    "@tf.function\n",
    "def train_step(one_text, target):\n",
    "    \n",
    "    with tf.GradientTape() as tape:\n",
    "        prediction = net_conv(one_text,training=True) \n",
    "        loss = loss_object(target, prediction)\n",
    "        gradients = tape.gradient(loss, net_conv.trainable_weights)\n",
    "        net_conv_optimizer.apply_gradients(zip(gradients, net_conv.trainable_weights))\n",
    "        return loss"
   ]
  },
  {
   "cell_type": "code",
   "execution_count": 21,
   "metadata": {},
   "outputs": [],
   "source": [
    "def fit_function(steps = 5000):\n",
    "    losses = []\n",
    "    for step in tqdm(range(steps)):\n",
    "        \n",
    "        one_text, target = one_text_generator()\n",
    "        \n",
    "        #print(\"len text: \", len(one_text))\n",
    "        one_text, target = tf.cast(one_text, tf.float32),tf.cast(target, tf.float32)\n",
    "        one_text, target = tf.expand_dims(one_text, 0),tf.expand_dims(target, 0)\n",
    "        loss = train_step(one_text, target)\n",
    "        losses.append(loss.numpy())\n",
    "        #print(\"Loss: \", loss.numpy())\n",
    "    return losses"
   ]
  },
  {
   "cell_type": "code",
   "execution_count": 22,
   "metadata": {},
   "outputs": [
    {
     "data": {
      "application/vnd.jupyter.widget-view+json": {
       "model_id": "c318635dbffc4b6b9a3089c8e90b36ee",
       "version_major": 2,
       "version_minor": 0
      },
      "text/plain": [
       "HBox(children=(FloatProgress(value=0.0, max=5000.0), HTML(value='')))"
      ]
     },
     "metadata": {},
     "output_type": "display_data"
    },
    {
     "name": "stdout",
     "output_type": "stream",
     "text": [
      "\n"
     ]
    }
   ],
   "source": [
    "losses = fit_function()"
   ]
  },
  {
   "cell_type": "code",
   "execution_count": 23,
   "metadata": {},
   "outputs": [
    {
     "data": {
      "text/plain": [
       "[<matplotlib.lines.Line2D at 0x7f0c9c241710>]"
      ]
     },
     "execution_count": 23,
     "metadata": {},
     "output_type": "execute_result"
    },
    {
     "data": {
      "image/png": "[encoded data removed]",
      "text/plain": [
       "<Figure size 432x288 with 1 Axes>"
      ]
     },
     "metadata": {
      "needs_background": "light"
     },
     "output_type": "display_data"
    }
   ],
   "source": [
    "loss_pd = pd.Series(losses).ewm(halflife=50)\n",
    "plt.plot(loss_pd.mean())\n",
    "plt.plot(losses, 'b', alpha=0.2)"
   ]
  },
  {
   "cell_type": "markdown",
   "metadata": {},
   "source": [
    "#### test of bow-CNN\n",
    "testing of the second model"
   ]
  },
  {
   "cell_type": "code",
   "execution_count": 24,
   "metadata": {},
   "outputs": [],
   "source": [
    "def testing():\n",
    "    targets=[]\n",
    "    answ = []\n",
    "    step =len(test_set)\n",
    "    steps = np.random.choice(range(len(test_set)),1500)\n",
    "    for i in tqdm(steps):    \n",
    "        text_id, sense = test_set[i], target_label[i]\n",
    "        #print(text_id)\n",
    "        target = sense\n",
    "        if sense == 1:\n",
    "            sense = 'pos'\n",
    "        else:\n",
    "            sense = 'neg'\n",
    "        one_text = text_matrix_BOW(text_id, sense, data_set=\"test\")\n",
    "        one_text = tf.cast(one_text, tf.float32)#,tf.cast(target, tf.float32)\n",
    "        one_text= tf.expand_dims(one_text, 0)#,tf.expand_dims(target, 0)\n",
    "        answ.append(int(round(net_conv.predict(one_text)[0][0])))\n",
    "        targets.append(target)\n",
    "    #print(answ)\n",
    "    print(np.sum(targets))\n",
    "    #print(answ)\n",
    "    #print(targets)\n",
    "    answ = np.array(answ)\n",
    "    targets = np.array(targets)\n",
    "    print (np.sum(np.array((answ - targets))**2)/len(steps))\n",
    "    return (pred_error(targets,answ))"
   ]
  },
  {
   "cell_type": "code",
   "execution_count": 25,
   "metadata": {},
   "outputs": [
    {
     "data": {
      "application/vnd.jupyter.widget-view+json": {
       "model_id": "0b544e1bb8144fcab47008c6ce5e79b8",
       "version_major": 2,
       "version_minor": 0
      },
      "text/plain": [
       "HBox(children=(FloatProgress(value=0.0, max=1500.0), HTML(value='')))"
      ]
     },
     "metadata": {},
     "output_type": "display_data"
    },
    {
     "name": "stdout",
     "output_type": "stream",
     "text": [
      "\n",
      "776\n",
      "0.16866666666666666\n"
     ]
    }
   ],
   "source": [
    "(err, conf_mat, accuracy)=testing()"
   ]
  },
  {
   "cell_type": "code",
   "execution_count": 26,
   "metadata": {},
   "outputs": [
    {
     "data": {
      "text/plain": [
       "0.8313333333333334"
      ]
     },
     "execution_count": 26,
     "metadata": {},
     "output_type": "execute_result"
    }
   ],
   "source": [
    "accuracy"
   ]
  },
  {
   "cell_type": "markdown",
   "metadata": {},
   "source": [
    "## Part 4 - Experimental evaluation\n",
    "\n",
    "Two experiments were performed in this project using Tensorflow. In both cases structure of the Network was similar. They had several layers: input, convolution, pooling, output layers.\n",
    "\n",
    "Their differences were in the dimension of the input and parameters of the model such as filters number, kernel size. \n",
    "\n",
    "In the paper authors implemented dynamic maxpooling layer without changing texts matrixes dimension. According to them in their network it was possible to put the inputs with different dimensions. I tryed to do it also in Tensorflow but I had warning message that graph was changed(retracing). That is why I decided to look at the lengthes of the texts and then I took the 450 as the value as a maximum length of my input because this value is more than the 95% quantile of lenthes. Because of it my network stopped to produce warnings.\n",
    "\n",
    "In the paper a lot of experiments were described but since I was doing this project alone I decided to perform only two examples of them.\n",
    "\n",
    "In the results of the paper error rate was close to 10%. I obtained value close to 20% in both cases which is not that bad if we take into consideration that I took only 5k words instead of 30k as authors did."
   ]
  },
  {
   "cell_type": "markdown",
   "metadata": {},
   "source": [
    "##### In the code below you can see my trial to implement dynamic maxpooling using Lambda function in tf"
   ]
  },
  {
   "cell_type": "code",
   "execution_count": null,
   "metadata": {},
   "outputs": [],
   "source": [
    "def max_poolling(inputs, max_pool_units = 75, filter_n = 32):\n",
    "    shape = inputs.shape\n",
    "    if shape[1] is None:\n",
    "        return tf.keras.layers.Input((75,32))\n",
    "    else:\n",
    "        if shape[1]%max_pool_units==0:\n",
    "            window_size= shape[1]//max_pool_units\n",
    "\n",
    "        else:\n",
    "            window_size= shape[1]//max_pool_units +1\n",
    "            adder =max_pool_units-shape[1]%max_pool_units\n",
    "            add_array = tf.zeros((adder, filter_n))\n",
    "            add_array = tf.expand_dims(add_array, 0)\n",
    "            #print(add_array)\n",
    "            inputs = tf.concat([inputs, add_array], 1) #otmetka 0\n",
    "\n",
    "        shape = inputs.shape \n",
    "        #print(shape)\n",
    "        x =tf.reshape(inputs, shape=(1, int(shape[1]/window_size), window_size, 32 )) #[300,32] = [75,4,32]\n",
    "        x_max = tf.reduce_max(x, axis=1) #[1,75,1,32], \n",
    "        #x_max = tf.expand_dims(x_max, 0)\n",
    "        #x_max =tf.squeeze(x_max) #[1,75,32]\n",
    "        #print(\"x_maxpool: \", x_max.shape)\n",
    "        return x_max\n",
    "def model():\n",
    "    inputs = tf.keras.layers.Input( shape=(None,5000), dtype=tf.float32)\n",
    "    #inputs = tf.keras.Sequential()\n",
    "    x = tf.keras.layers.Conv1D(filters=32,kernel_size=2,strides=1, activation='relu', padding =\"SAME\")(inputs)\n",
    "    x = tf.keras.layers.Lambda(max_poolling)(x)\n",
    "    x = tf.keras.layers.Flatten()(x)\n",
    "    x = tf.keras.layers.Dense(1,activation=\"sigmoid\")(x)\n",
    "    return tf.keras.Model(inputs = inputs, outputs = x)\n",
    "net_conv = model()\n",
    "net_conv.summary()\n",
    "loss_object =  tf.keras.losses.BinaryCrossentropy(from_logits =True)\n",
    "net_conv_optimizer =tf.keras.optimizers.Adam(2e-4, beta_1=0.5)"
   ]
  }
 ],
 "metadata": {
  "kernelspec": {
   "display_name": "Python 3",
   "language": "python",
   "name": "python3"
  },
  "language_info": {
   "codemirror_mode": {
    "name": "ipython",
    "version": 3
   },
   "file_extension": ".py",
   "mimetype": "text/x-python",
   "name": "python",
   "nbconvert_exporter": "python",
   "pygments_lexer": "ipython3",
   "version": "3.6.9"
  }
 },
 "nbformat": 4,
 "nbformat_minor": 4
}
